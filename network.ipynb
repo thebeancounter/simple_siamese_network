{
  "nbformat": 4,
  "nbformat_minor": 0,
  "metadata": {
    "colab": {
      "name": "network.ipynb",
      "version": "0.3.2",
      "provenance": [],
      "collapsed_sections": [],
      "include_colab_link": true
    },
    "kernelspec": {
      "name": "python3",
      "display_name": "Python 3"
    }
  },
  "cells": [
    {
      "cell_type": "markdown",
      "metadata": {
        "id": "view-in-github",
        "colab_type": "text"
      },
      "source": [
        "<a href=\"https://colab.research.google.com/github/thebeancounter/simple_siamese_network/blob/master/network.ipynb\" target=\"_parent\"><img src=\"https://colab.research.google.com/assets/colab-badge.svg\" alt=\"Open In Colab\"/></a>"
      ]
    },
    {
      "cell_type": "code",
      "metadata": {
        "id": "Szls3GqvyPY2",
        "colab_type": "code",
        "colab": {}
      },
      "source": [
        "inp1 = Input(shape=(28*28,))\n",
        "inp2 = Input(shape=(28*28,))\n",
        "\n",
        "l1 = Dense(100, activation=\"relu\")\n",
        "a1 = l1(inp1)\n",
        "a2 = l1(inp2)\n",
        "\n",
        "l2 = Dense(50, activation=\"relu\")\n",
        "b1 = l2(a1)\n",
        "b2 = l2(a2)\n",
        "\n",
        "output = Lambda(lambda inputs: np.absolute(inputs[0]-inputs[1]), output_shape=(50,))([b1, b2])\n",
        "output = Dropout(0.3)(output)\n",
        "\n",
        "output1 = Dense(1)(output)\n",
        "\n",
        "model = Model([inp1, inp2], [output1])"
      ],
      "execution_count": 0,
      "outputs": []
    }
  ]
}